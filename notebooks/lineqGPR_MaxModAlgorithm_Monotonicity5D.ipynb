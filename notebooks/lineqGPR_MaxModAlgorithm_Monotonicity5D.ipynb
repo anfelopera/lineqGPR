{
 "cells": [
  {
   "cell_type": "markdown",
   "metadata": {},
   "source": [
    "# Demo: Gaussian processes under monotonicity constraints\n",
    "\n",
    "In this notebook, we propose a demo example of the implementation of a Gaussian process (GP) under monotonicity constraints. The model is constructed via the MaxMod algorithm proposed in [1]\n",
    "\n",
    "[1] F. Bachoc, A. F. López-Lopera, and O. Roustant. *Sequential construction and dimension reduction of Gaussian\n",
    "processes under inequality constraints*. 2020. URL: https://arxiv.org/abs/2009.04188."
   ]
  },
  {
   "cell_type": "code",
   "execution_count": 1,
   "metadata": {},
   "outputs": [
    {
     "name": "stderr",
     "output_type": "stream",
     "text": [
      "Warning message:\n",
      "\"package 'lineqGPR' was built under R version 4.0.4\"\n",
      "Loading required package: broom\n",
      "\n",
      "Warning message:\n",
      "\"package 'broom' was built under R version 4.0.4\"\n",
      "Loading required package: nloptr\n",
      "\n",
      "Loading required package: purrr\n",
      "\n",
      "Loading required package: DiceDesign\n",
      "\n",
      "Warning message:\n",
      "\"package 'DiceDesign' was built under R version 4.0.4\"\n",
      "Loading required package: viridisLite\n",
      "\n"
     ]
    }
   ],
   "source": [
    "# loading useful libraries\n",
    "library(\"lineqGPR\")\n",
    "require(\"DiceDesign\")\n",
    "library(\"plot3D\")\n",
    "library(\"viridis\")\n",
    "\n",
    "rm(list=ls())\n",
    "options(warn=-1)"
   ]
  },
  {
   "cell_type": "code",
   "execution_count": 2,
   "metadata": {},
   "outputs": [],
   "source": [
    "# Synthetic data: monotonic function\n",
    "modatan <- function(x, a) return(atan(a*x))\n",
    "targetFun <- function(x, d) {\n",
    "  y <- 0\n",
    "  a <- (1-(1:d)/(d+1))*5\n",
    "  for (k in 1:d)\n",
    "    y <- y + modatan(x[, k], a[k])\n",
    "  return(y)\n",
    "}"
   ]
  },
  {
   "cell_type": "code",
   "execution_count": 3,
   "metadata": {},
   "outputs": [],
   "source": [
    "D <- 5 # number of active + inactive input variables\n",
    "d <- 2 # number of active input variables\n",
    "\n",
    "# building DoE in dimension D via Latin hypercube sampling (LHS)\n",
    "nbtrain <- 20*D # nb of training data\n",
    "xdesign <- lhsDesign(nbtrain, D, seed = 8)$design\n",
    "xdesign <- maximinSA_LHS(xdesign)$design\n",
    "ydesign <- targetFun(xdesign, d)\n",
    "\n",
    "# building a DoE for assessing the model\n",
    "ntest <- 80*D # nb of test data for the MaxMod criterion\n",
    "xtest <- lhsDesign(ntest, D, seed = 8)$design\n",
    "xtest <- maximinSA_LHS(xtest)$design"
   ]
  },
  {
   "cell_type": "code",
   "execution_count": 4,
   "metadata": {},
   "outputs": [],
   "source": [
    "# initializing a 1D GP model with only two knots \n",
    "model <-  create(class = 'lineqMaxModGP',\n",
    "                 x = rep(0, nbtrain), y = ydesign,\n",
    "                 constrType = c(\"monotonicity\"))\n",
    "model$localParam$m <- 2\n",
    "model$uinit <- lapply(1:D, function(x) seq(0, 1, length.out = model$localParam$m))\n",
    "model$varnoise <- var(ydesign)\n",
    "model$kernParam$nugget <- 1e-5"
   ]
  },
  {
   "cell_type": "code",
   "execution_count": 5,
   "metadata": {
    "scrolled": false
   },
   "outputs": [
    {
     "name": "stdout",
     "output_type": "stream",
     "text": [
      "                    dim 1    dim 2    dim 3    dim 4    dim 5\n",
      "MaxMod criterion 1.224175 1.218699 1.179208 1.177648 1.177618\n",
      "knot's position       NaN      NaN      NaN      NaN      NaN\n",
      "decision         1.000000 0.000000 0.000000 0.000000 0.000000\n"
     ]
    },
    {
     "name": "stderr",
     "output_type": "stream",
     "text": [
      "Iter 1 - dimension 1 added as d = 1 (MaxMod criterion = 1.22417501911793)\n",
      "\n"
     ]
    },
    {
     "name": "stdout",
     "output_type": "stream",
     "text": [
      "                      dim 1      dim 2        dim 3        dim 4     dim 5\n",
      "MaxMod criterion 0.01929934 0.04792809 0.0001420925 0.0005257585 0.0003219\n",
      "knot's position  0.38289803        NaN          NaN          NaN       NaN\n",
      "decision         0.00000000 1.00000000 0.0000000000 0.0000000000 0.0000000\n"
     ]
    },
    {
     "name": "stderr",
     "output_type": "stream",
     "text": [
      "Iter 2 - dimension 2 added as d = 2 (MaxMod criterion = 0.0479280915949658)\n",
      "\n"
     ]
    },
    {
     "name": "stdout",
     "output_type": "stream",
     "text": [
      "                       dim 1       dim 2        dim 3        dim 4        dim 5\n",
      "MaxMod criterion 0.006794792 0.002083112 0.0001107679 7.457895e-05 2.856565e-05\n",
      "knot's position  0.387948087 0.401963016          NaN          NaN          NaN\n",
      "decision         1.000000000 0.000000000 0.0000000000 0.000000e+00 0.000000e+00\n"
     ]
    },
    {
     "name": "stderr",
     "output_type": "stream",
     "text": [
      "Iter 3 - New knot added: d = 1 (MaxMod criterion = 0.00679479216792167)\n",
      "\n"
     ]
    },
    {
     "name": "stdout",
     "output_type": "stream",
     "text": [
      "                        dim 1       dim 2        dim 3        dim 4\n",
      "MaxMod criterion 5.236616e-05 0.001063286 7.126979e-05 2.696419e-05\n",
      "knot's position  6.873642e-01 0.459725552          NaN          NaN\n",
      "decision         0.000000e+00 1.000000000 0.000000e+00 0.000000e+00\n",
      "                        dim 5\n",
      "MaxMod criterion 1.594172e-05\n",
      "knot's position           NaN\n",
      "decision         0.000000e+00\n"
     ]
    },
    {
     "name": "stderr",
     "output_type": "stream",
     "text": [
      "Iter 4 - New knot added: d = 2 (MaxMod criterion = 0.00106328550109741)\n",
      "\n"
     ]
    },
    {
     "name": "stdout",
     "output_type": "stream",
     "text": [
      "                        dim 1        dim 2        dim 3        dim 4\n",
      "MaxMod criterion 4.742941e-05 3.591556e-05 2.637898e-05 5.199535e-06\n",
      "knot's position  7.513662e-01 6.762894e-01          NaN          NaN\n",
      "decision         1.000000e+00 0.000000e+00 0.000000e+00 0.000000e+00\n",
      "                        dim 5\n",
      "MaxMod criterion 9.179307e-06\n",
      "knot's position           NaN\n",
      "decision         0.000000e+00\n"
     ]
    },
    {
     "name": "stderr",
     "output_type": "stream",
     "text": [
      "Iter 5 - New knot added: d = 1 (MaxMod criterion = 4.74294056228348e-05)\n",
      "\n"
     ]
    },
    {
     "name": "stdout",
     "output_type": "stream",
     "text": [
      "                        dim 1        dim 2        dim 3        dim 4\n",
      "MaxMod criterion 0.0002100842 2.853189e-05 1.534378e-05 4.131272e-06\n",
      "knot's position  0.2132356442 6.698371e-01          NaN          NaN\n",
      "decision         1.0000000000 0.000000e+00 0.000000e+00 0.000000e+00\n",
      "                        dim 5\n",
      "MaxMod criterion 8.518938e-06\n",
      "knot's position           NaN\n",
      "decision         0.000000e+00\n"
     ]
    },
    {
     "name": "stderr",
     "output_type": "stream",
     "text": [
      "Iter 6 - New knot added: d = 1 (MaxMod criterion = 0.000210084175922863)\n",
      "\n"
     ]
    },
    {
     "name": "stdout",
     "output_type": "stream",
     "text": [
      "                        dim 1        dim 2        dim 3        dim 4\n",
      "MaxMod criterion 1.124038e-05 1.794553e-05 7.648012e-06 1.185838e-06\n",
      "knot's position  6.009299e-01 7.039008e-01          NaN          NaN\n",
      "decision         0.000000e+00 1.000000e+00 0.000000e+00 0.000000e+00\n",
      "                        dim 5\n",
      "MaxMod criterion 1.723864e-06\n",
      "knot's position           NaN\n",
      "decision         0.000000e+00\n"
     ]
    },
    {
     "name": "stderr",
     "output_type": "stream",
     "text": [
      "Iter 7 - New knot added: d = 2 (MaxMod criterion = 1.79455339766526e-05)\n",
      "\n"
     ]
    },
    {
     "name": "stdout",
     "output_type": "stream",
     "text": [
      "                        dim 1        dim 2        dim 3        dim 4\n",
      "MaxMod criterion 8.448796e-06 3.235447e-05 6.062107e-06 1.673104e-06\n",
      "knot's position  5.388241e-01 1.285831e-01          NaN          NaN\n",
      "decision         0.000000e+00 1.000000e+00 0.000000e+00 0.000000e+00\n",
      "                        dim 5\n",
      "MaxMod criterion 1.858297e-06\n",
      "knot's position           NaN\n",
      "decision         0.000000e+00\n"
     ]
    },
    {
     "name": "stderr",
     "output_type": "stream",
     "text": [
      "Iter 8 - New knot added: d = 2 (MaxMod criterion = 3.23544665059667e-05)\n",
      "\n"
     ]
    },
    {
     "name": "stdout",
     "output_type": "stream",
     "text": [
      "                        dim 1        dim 2        dim 3        dim 4\n",
      "MaxMod criterion 1.614464e-05 2.128111e-05 5.648488e-06 2.968942e-06\n",
      "knot's position  6.272510e-01 2.056282e-01          NaN          NaN\n",
      "decision         0.000000e+00 1.000000e+00 0.000000e+00 0.000000e+00\n",
      "                        dim 5\n",
      "MaxMod criterion 8.261117e-06\n",
      "knot's position           NaN\n",
      "decision         0.000000e+00\n"
     ]
    },
    {
     "name": "stderr",
     "output_type": "stream",
     "text": [
      "Iter 9 - New knot added: d = 2 (MaxMod criterion = 2.12811139487102e-05)\n",
      "\n"
     ]
    },
    {
     "name": "stdout",
     "output_type": "stream",
     "text": [
      "                        dim 1        dim 2        dim 3        dim 4\n",
      "MaxMod criterion 1.648198e-05 2.127745e-06 5.070316e-06 2.849696e-06\n",
      "knot's position  6.506193e-01 3.496223e-01          NaN          NaN\n",
      "decision         1.000000e+00 0.000000e+00 0.000000e+00 0.000000e+00\n",
      "                        dim 5\n",
      "MaxMod criterion 7.199773e-06\n",
      "knot's position           NaN\n",
      "decision         0.000000e+00\n"
     ]
    },
    {
     "name": "stderr",
     "output_type": "stream",
     "text": [
      "Iter 10 - New knot added: d = 1 (MaxMod criterion = 1.64819797380224e-05)\n",
      "\n",
      "Run out of budget\n",
      "\n",
      "\n",
      "Number of active dimensions: 2\n",
      "\n",
      "Number of actived dimensions via MaxMod: 2\n",
      "\n",
      "\n"
     ]
    }
   ],
   "source": [
    "# updating the model according to the MaxMod algorithm\n",
    "model <- MaxMod(model,\n",
    "                xdesign,\n",
    "                xtest,\n",
    "                D = D,\n",
    "                tol = 1e-5,\n",
    "                max_iter = 10*model$d,\n",
    "                reward_new_knot = 1e-6,\n",
    "                reward_new_dim = 1e-9,\n",
    "                print_iter = TRUE,\n",
    "                nClusters = 10,\n",
    "                save_history = TRUE)\n",
    "\n",
    "message(\"\\nNumber of active dimensions: \", d)\n",
    "message(\"Number of actived dimensions via MaxMod: \", model$d, \"\\n\")"
   ]
  },
  {
   "cell_type": "code",
   "execution_count": 6,
   "metadata": {},
   "outputs": [],
   "source": [
    "# evaluating the model using an equispaced grid of points\n",
    "ntest <- 10\n",
    "xtestGrid  <- as.matrix(expand.grid(seq(0, 1, length = ntest), seq(0, 1, length = ntest)))\n",
    "ytestGrid <- targetFun(xtestGrid, d)\n",
    "pred <- predict(model, xtestGrid)"
   ]
  },
  {
   "cell_type": "code",
   "execution_count": 7,
   "metadata": {},
   "outputs": [
    {
     "data": {
      "image/png": "[encoded data removed]",
      "text/plain": [
       "Plot with title \"\""
      ]
     },
     "metadata": {
      "image/png": {
       "height": 360,
       "width": 900
      }
     },
     "output_type": "display_data"
    }
   ],
   "source": [
    "# plotting the MAP estimate\n",
    "colormap <- rev(viridis(1e2))\n",
    "options(repr.plot.width = 15, repr.plot.height = 6)\n",
    "par(mfrow = c(1,2))\n",
    "p <- persp3D(x = seq(0, 1, length = ntest), y = seq(0, 1, length = ntest),\n",
    "             z = matrix(pred$Phi.test %*% pred$xi.map, nrow = ntest),\n",
    "             xlab = \"x2\", ylab = \"x1\", zlab = \"y(x1,x2)\",\n",
    "             main = \"target function\",\n",
    "             phi = 20, theta = -30, col = colormap,\n",
    "             contour = TRUE, colkey=FALSE, lwd = 4)\n",
    "points3D(x = model$x[, 1], y = model$x[, 2], z = ydesign,\n",
    "         col = 'black', pch = 19, add=TRUE)\n",
    "u <- expand.grid(model$u[[1]], model$u[[2]])\n",
    "pred_Knots <- predict(model, as.matrix(u))\n",
    "points(trans3D(x = u[, 1], y = u[, 2], z = pred_Knots$Phi.test %*% pred_Knots$xi.map, pmat = p),\n",
    "         col = 'brown', pch = 4, lwd = 4)\n",
    "\n",
    "diff = ytestGrid - pred$Phi.test %*% pred$xi.map\n",
    "image2D(abs(matrix(diff, nrow = ntest)), col = rev(colormap),\n",
    "        main = \"absolute error\", xlab = \"x2\", ylab = \"x1\")\n",
    "points2D(model$x[, 1], model$x[, 2], add = TRUE, pch = 19, col ='black')\n",
    "points2D(u[, 1], u[, 2], add = TRUE, pch = 4, lwd = 4, col ='brown')"
   ]
  }
 ],
 "metadata": {
  "kernelspec": {
   "display_name": "R",
   "language": "R",
   "name": "ir"
  },
  "language_info": {
   "codemirror_mode": "r",
   "file_extension": ".r",
   "mimetype": "text/x-r-source",
   "name": "R",
   "pygments_lexer": "r",
   "version": "4.0.3"
  }
 },
 "nbformat": 4,
 "nbformat_minor": 4
}
