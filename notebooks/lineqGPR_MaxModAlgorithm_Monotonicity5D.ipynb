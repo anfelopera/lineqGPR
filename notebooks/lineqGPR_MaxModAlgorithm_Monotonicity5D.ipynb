{
 "cells": [
  {
   "cell_type": "markdown",
   "metadata": {},
   "source": [
    "# Demo: Gaussian processes under monotonicity constraints in 5D\n",
    "\n",
    "In this notebook, we propose a demo example of the implementation of a Gaussian process (GP) under monotonicity constraints. The model is constructed via the MaxMod algorithm proposed in [1]\n",
    "\n",
    "[1] F. Bachoc, A. F. López-Lopera, and O. Roustant (2020). *Sequential construction and dimension reduction of Gaussian\n",
    "processes under inequality constraints*, SIAM Journal on Mathematics of Data Science, 4(2). URL: https://arxiv.org/abs/2009.04188."
   ]
  },
  {
   "cell_type": "code",
   "execution_count": 1,
   "metadata": {},
   "outputs": [
    {
     "name": "stderr",
     "output_type": "stream",
     "text": [
      "Le chargement a nécessité le package : broom\n",
      "\n",
      "Le chargement a nécessité le package : nloptr\n",
      "\n",
      "Le chargement a nécessité le package : purrr\n",
      "\n",
      "Le chargement a nécessité le package : DiceDesign\n",
      "\n",
      "Le chargement a nécessité le package : viridisLite\n",
      "\n"
     ]
    }
   ],
   "source": [
    "# loading useful libraries\n",
    "library(\"lineqGPR\")\n",
    "require(\"DiceDesign\")\n",
    "library(\"plot3D\")\n",
    "library(\"viridis\")\n",
    "\n",
    "rm(list=ls())\n",
    "options(warn=-1)"
   ]
  },
  {
   "cell_type": "code",
   "execution_count": 2,
   "metadata": {},
   "outputs": [],
   "source": [
    "# Synthetic data: monotonic function\n",
    "modatan <- function(x, a) return(atan(a*x))\n",
    "targetFun <- function(x, d) {\n",
    "  y <- 0\n",
    "  a <- (1-(1:d)/(d+1))*5\n",
    "  for (k in 1:d)\n",
    "    y <- y + modatan(x[, k], a[k])\n",
    "  return(y)\n",
    "}"
   ]
  },
  {
   "cell_type": "code",
   "execution_count": 3,
   "metadata": {},
   "outputs": [],
   "source": [
    "D <- 5 # number of active + inactive input variables\n",
    "d <- 2 # number of active input variables\n",
    "\n",
    "# building DoE in dimension D via Latin hypercube sampling (LHS)\n",
    "nbtrain <- 20*D # nb of training data\n",
    "xdesign <- lhsDesign(nbtrain, D, seed = 8)$design\n",
    "xdesign <- maximinSA_LHS(xdesign)$design\n",
    "ydesign <- targetFun(xdesign, d)\n",
    "\n",
    "# building a DoE for assessing the model\n",
    "ntest <- 80*D # nb of test data for the MaxMod criterion\n",
    "xtest <- lhsDesign(ntest, D, seed = 8)$design\n",
    "xtest <- maximinSA_LHS(xtest)$design"
   ]
  },
  {
   "cell_type": "code",
   "execution_count": 4,
   "metadata": {},
   "outputs": [],
   "source": [
    "# initializing a 1D GP model with only two knots \n",
    "model <-  create(class = 'lineqGP',\n",
    "                 x = xdesign, y = ydesign,\n",
    "                 constrType = c(\"monotonicity\"), m = 2)\n",
    "model$kernParam$type <- \"matern52\"\n",
    "model$varnoise <- var(ydesign)\n",
    "model$kernParam$nugget <- 1e-5"
   ]
  },
  {
   "cell_type": "code",
   "execution_count": 5,
   "metadata": {
    "scrolled": false
   },
   "outputs": [
    {
     "name": "stdout",
     "output_type": "stream",
     "text": [
      "                    dim 1    dim 2    dim 3    dim 4    dim 5\n",
      "MaxMod criterion 1.224175 1.218699 1.179208 1.177648 1.177618\n",
      "knot's position       NaN      NaN      NaN      NaN      NaN\n",
      "decision         1.000000 0.000000 0.000000 0.000000 0.000000\n"
     ]
    },
    {
     "name": "stderr",
     "output_type": "stream",
     "text": [
      "Iter 1 - dimension 1 added as d = 1 (Relative MaxMod criterion = Inf)\n",
      "\n"
     ]
    },
    {
     "name": "stdout",
     "output_type": "stream",
     "text": [
      "                     dim 1      dim 2        dim 3      dim 4       dim 5\n",
      "MaxMod criterion 0.0192993 0.04813455 0.0001500005 0.00056587 0.000322478\n",
      "knot's position  0.3828852        NaN          NaN        NaN         NaN\n",
      "decision         0.0000000 1.00000000 0.0000000000 0.00000000 0.000000000\n"
     ]
    },
    {
     "name": "stderr",
     "output_type": "stream",
     "text": [
      "Iter 2 - dimension 2 added as d = 2 (Relative MaxMod criterion = 0.0196599955428449)\n",
      "\n"
     ]
    },
    {
     "name": "stdout",
     "output_type": "stream",
     "text": [
      "                       dim 1       dim 2        dim 3       dim 4        dim 5\n",
      "MaxMod criterion 0.006794786 0.002083123 0.0001326933 7.98185e-05 3.507365e-05\n",
      "knot's position  0.387948526 0.401963188          NaN         NaN          NaN\n",
      "decision         1.000000000 0.000000000 0.0000000000 0.00000e+00 0.000000e+00\n"
     ]
    },
    {
     "name": "stderr",
     "output_type": "stream",
     "text": [
      "Iter 3 - New knot added: d = 1 (Relative MaxMod criterion = 0.00264733162378639)\n",
      "\n"
     ]
    },
    {
     "name": "stdout",
     "output_type": "stream",
     "text": [
      "                        dim 1       dim 2       dim 3        dim 4        dim 5\n",
      "MaxMod criterion 5.236818e-05 0.001063345 7.04391e-05 2.764974e-05 1.737428e-05\n",
      "knot's position  6.873629e-01 0.459723937         NaN          NaN          NaN\n",
      "decision         0.000000e+00 1.000000000 0.00000e+00 0.000000e+00 0.000000e+00\n"
     ]
    },
    {
     "name": "stderr",
     "output_type": "stream",
     "text": [
      "Iter 4 - New knot added: d = 2 (Relative MaxMod criterion = 0.000424805846771087)\n",
      "\n"
     ]
    },
    {
     "name": "stdout",
     "output_type": "stream",
     "text": [
      "                        dim 1        dim 2        dim 3        dim 4\n",
      "MaxMod criterion 0.0000479849 0.0000359026 2.676007e-05 5.372877e-06\n",
      "knot's position  0.7515225917 0.6762823783          NaN          NaN\n",
      "decision         1.0000000000 0.0000000000 0.000000e+00 0.000000e+00\n",
      "                        dim 5\n",
      "MaxMod criterion 9.188451e-06\n",
      "knot's position           NaN\n",
      "decision         0.000000e+00\n"
     ]
    },
    {
     "name": "stderr",
     "output_type": "stream",
     "text": [
      "Iter 5 - New knot added: d = 1 (Relative MaxMod criterion = 1.93455246660833e-05)\n",
      "\n"
     ]
    },
    {
     "name": "stdout",
     "output_type": "stream",
     "text": [
      "                        dim 1        dim 2        dim 3       dim 4\n",
      "MaxMod criterion 0.0002026479 2.851644e-05 1.547175e-05 4.06623e-06\n",
      "knot's position  0.2131210895 6.698768e-01          NaN         NaN\n",
      "decision         1.0000000000 0.000000e+00 0.000000e+00 0.00000e+00\n",
      "                        dim 5\n",
      "MaxMod criterion 8.370995e-06\n",
      "knot's position           NaN\n",
      "decision         0.000000e+00\n"
     ]
    },
    {
     "name": "stderr",
     "output_type": "stream",
     "text": [
      "Iter 6 - New knot added: d = 1 (Relative MaxMod criterion = 7.87941516484455e-05)\n",
      "\n"
     ]
    },
    {
     "name": "stdout",
     "output_type": "stream",
     "text": [
      "                        dim 1        dim 2        dim 3        dim 4\n",
      "MaxMod criterion 1.174631e-05 1.780466e-05 7.725338e-06 1.108001e-06\n",
      "knot's position  5.314749e-01 7.038163e-01          NaN          NaN\n",
      "decision         0.000000e+00 1.000000e+00 0.000000e+00 0.000000e+00\n",
      "                        dim 5\n",
      "MaxMod criterion 1.668296e-06\n",
      "knot's position           NaN\n",
      "decision         0.000000e+00\n"
     ]
    },
    {
     "name": "stderr",
     "output_type": "stream",
     "text": [
      "Iter 7 - New knot added: d = 2 (Relative MaxMod criterion = 7.01296422197603e-06)\n",
      "\n",
      "The sequential algorithm converged\n",
      "\n",
      "\n",
      "Number of active dimensions: 2\n",
      "\n",
      "Number of actived dimensions via MaxMod: 2\n",
      "\n",
      "\n"
     ]
    }
   ],
   "source": [
    "# updating the model according to the MaxMod algorithm\n",
    "model <- MaxMod(model,\n",
    "                xtest,\n",
    "                tol = 1e-5,\n",
    "                max_iter = 10*model$d,\n",
    "                reward_new_knot = 1e-6,\n",
    "                reward_new_dim = 1e-9,\n",
    "                print_iter = TRUE,\n",
    "                nClusters = 10,\n",
    "                save_history = TRUE)\n",
    "\n",
    "message(\"\\nNumber of active dimensions: \", d)\n",
    "message(\"Number of actived dimensions via MaxMod: \", model$d, \"\\n\")"
   ]
  },
  {
   "cell_type": "code",
   "execution_count": 6,
   "metadata": {},
   "outputs": [],
   "source": [
    "# evaluating the model using an equispaced grid of points\n",
    "ntest <- 10\n",
    "xtestGrid  <- as.matrix(expand.grid(seq(0, 1, length = ntest), seq(0, 1, length = ntest)))\n",
    "ytestGrid <- targetFun(xtestGrid, d)\n",
    "pred <- predict(model, xtestGrid)"
   ]
  },
  {
   "cell_type": "code",
   "execution_count": 7,
   "metadata": {},
   "outputs": [
    {
     "data": {
      "image/png": "[encoded data removed]",
      "text/plain": [
       "Plot with title \"\""
      ]
     },
     "metadata": {
      "image/png": {
       "height": 450,
       "width": 900
      }
     },
     "output_type": "display_data"
    }
   ],
   "source": [
    "# plotting the MAP estimate\n",
    "colormap <- rev(viridis(1e2))\n",
    "options(repr.plot.width = 15, repr.plot.height = 7.5)\n",
    "par(mfrow = c(1,2))\n",
    "p <- persp3D(x = seq(0, 1, length = ntest), y = seq(0, 1, length = ntest),\n",
    "             z = matrix(pred$Phi.test %*% pred$xi.map, nrow = ntest),\n",
    "             xlab = \"x2\", ylab = \"x1\", zlab = \"y(x1,x2)\",\n",
    "             main = \"target function\",\n",
    "             phi = 20, theta = -30, col = colormap,\n",
    "             contour = TRUE, colkey=FALSE)\n",
    "points(trans3D(x = model$x[, 1], y = model$x[, 2], z = ydesign, pmat = p),\n",
    "       col = 'black', pch = 19)\n",
    "u <- expand.grid(model$ulist[[1]], model$ulist[[2]])\n",
    "pred_Knots <- predict(model, as.matrix(u))\n",
    "points(trans3D(x = u[, 1], y = u[, 2], z = pred_Knots$Phi.test %*% pred_Knots$xi.map, pmat = p),\n",
    "       col = 'brown', pch = 4, lwd = 2)\n",
    "\n",
    "diff = ytestGrid - pred$Phi.test %*% pred$xi.map\n",
    "image2D(abs(matrix(diff, nrow = ntest)), col = rev(colormap),\n",
    "        main = \"absolute error\", xlab = \"x2\", ylab = \"x1\")\n",
    "points2D(model$x[, 1], model$x[, 2], add = TRUE, pch = 19, col ='black')\n",
    "points2D(u[, 1], u[, 2], add = TRUE, pch = 4, lwd = 4, col ='brown')"
   ]
  }
 ],
 "metadata": {
  "kernelspec": {
   "display_name": "R",
   "language": "R",
   "name": "ir"
  },
  "language_info": {
   "codemirror_mode": "r",
   "file_extension": ".r",
   "mimetype": "text/x-r-source",
   "name": "R",
   "pygments_lexer": "r",
   "version": "4.1.2"
  }
 },
 "nbformat": 4,
 "nbformat_minor": 4
}
