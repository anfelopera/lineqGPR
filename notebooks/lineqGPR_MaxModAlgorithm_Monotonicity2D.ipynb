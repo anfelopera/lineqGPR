{
 "cells": [
  {
   "cell_type": "markdown",
   "metadata": {},
   "source": [
    "# Demo: Gaussian processes under monotonicity constraints in 2D\n",
    "\n",
    "In this notebook, we propose a demo example of the implementation of a Gaussian process (GP) under monotonicity constraints. The model is constructed via the MaxMod algorithm proposed in [1]\n",
    "\n",
    "[1] F. Bachoc, A. F. López-Lopera, and O. Roustant (2020). *Sequential construction and dimension reduction of Gaussian\n",
    "processes under inequality constraints*, SIAM Journal on Mathematics of Data Science, 4(2). URL: https://arxiv.org/abs/2009.04188."
   ]
  },
  {
   "cell_type": "code",
   "execution_count": 1,
   "metadata": {},
   "outputs": [
    {
     "name": "stderr",
     "output_type": "stream",
     "text": [
      "Le chargement a nécessité le package : broom\n",
      "\n",
      "Le chargement a nécessité le package : nloptr\n",
      "\n",
      "Le chargement a nécessité le package : purrr\n",
      "\n",
      "Le chargement a nécessité le package : DiceDesign\n",
      "\n",
      "Le chargement a nécessité le package : viridisLite\n",
      "\n"
     ]
    }
   ],
   "source": [
    "# loading useful libraries\n",
    "library(\"lineqGPR\")\n",
    "require(\"DiceDesign\")\n",
    "library(\"plot3D\")\n",
    "library(\"viridis\")\n",
    "\n",
    "rm(list=ls())\n",
    "options(warn=-1)"
   ]
  },
  {
   "cell_type": "code",
   "execution_count": 2,
   "metadata": {},
   "outputs": [],
   "source": [
    "# Synthetic data: monotonic function\n",
    "targetFun <- function(x) return(atan(5*x[,2])  + 0.5*x[,1])"
   ]
  },
  {
   "cell_type": "code",
   "execution_count": 3,
   "metadata": {},
   "outputs": [],
   "source": [
    "D <- 2 # number of active + inactive input variables\n",
    "d <- 2 # number of active input variables\n",
    "\n",
    "# building DoE in dimension D via Latin hypercube sampling (LHS)\n",
    "nbPoints <- 40*D # nb of training data\n",
    "xdesign <- lhsDesign(nbPoints, D, seed = 2)$design\n",
    "xdesign <- maximinSA_LHS(xdesign)$design\n",
    "xdesign <- xdesign[,2:1]\n",
    "ydesign <- targetFun(xdesign)\n",
    "\n",
    "# building a DoE for assessing the model\n",
    "ntest <- 10*D\n",
    "xtest <- matrix(seq(0, 1, length = ntest))\n",
    "xtest <- as.matrix(expand.grid(xtest, xtest))\n",
    "xtest <- xtest[,2:1]\n",
    "ytest <- targetFun(xtest)"
   ]
  },
  {
   "cell_type": "code",
   "execution_count": 4,
   "metadata": {},
   "outputs": [],
   "source": [
    "# initializing a 1D GP model with only two knots \n",
    "model <-  create(class = 'lineqGP',\n",
    "                 x = xdesign, y = ydesign,\n",
    "                 constrType = \"monotonicity\", m = 2)\n",
    "model$kernParam$type <- \"matern52\"\n",
    "model$varnoise <- var(ydesign)\n",
    "model$kernParam$nugget <- 1e-5"
   ]
  },
  {
   "cell_type": "code",
   "execution_count": 5,
   "metadata": {
    "scrolled": false
   },
   "outputs": [
    {
     "name": "stdout",
     "output_type": "stream",
     "text": [
      "                     dim 1     dim 2\n",
      "MaxMod criterion 0.8442379 0.8847062\n",
      "knot's position        NaN       NaN\n",
      "decision         0.0000000 1.0000000\n"
     ]
    },
    {
     "name": "stderr",
     "output_type": "stream",
     "text": [
      "Iter 1 - dimension 2 added as d = 1 (Relative MaxMod criterion = Inf)\n",
      "\n"
     ]
    },
    {
     "name": "stdout",
     "output_type": "stream",
     "text": [
      "                       dim 1      dim 2\n",
      "MaxMod criterion 0.009802148 0.01886983\n",
      "knot's position          NaN 0.40204860\n",
      "decision         0.000000000 1.00000000\n"
     ]
    },
    {
     "name": "stderr",
     "output_type": "stream",
     "text": [
      "Iter 2 - New knot added: d = 1 (Relative MaxMod criterion = 0.0106644618646309)\n",
      "\n"
     ]
    },
    {
     "name": "stdout",
     "output_type": "stream",
     "text": [
      "                      dim 1       dim 2\n",
      "MaxMod criterion 0.01090446 0.001456632\n",
      "knot's position         NaN 0.236312959\n",
      "decision         1.00000000 0.000000000\n"
     ]
    },
    {
     "name": "stderr",
     "output_type": "stream",
     "text": [
      "Iter 3 - dimension 1 added as d = 2 (Relative MaxMod criterion = 0.00627794518954239)\n",
      "\n"
     ]
    },
    {
     "name": "stdout",
     "output_type": "stream",
     "text": [
      "                        dim 1        dim 2\n",
      "MaxMod criterion 2.005798e-05 0.0007221418\n",
      "knot's position  3.985432e-01 0.2047034219\n",
      "decision         0.000000e+00 1.0000000000\n"
     ]
    },
    {
     "name": "stderr",
     "output_type": "stream",
     "text": [
      "Iter 4 - New knot added: d = 1 (Relative MaxMod criterion = 0.000408925371042609)\n",
      "\n"
     ]
    },
    {
     "name": "stdout",
     "output_type": "stream",
     "text": [
      "                        dim 1        dim 2\n",
      "MaxMod criterion 1.135893e-05 4.842424e-05\n",
      "knot's position  7.974868e-01 6.275473e-01\n",
      "decision         0.000000e+00 1.000000e+00\n"
     ]
    },
    {
     "name": "stderr",
     "output_type": "stream",
     "text": [
      "Iter 5 - New knot added: d = 1 (Relative MaxMod criterion = 2.72952789887695e-05)\n",
      "\n"
     ]
    },
    {
     "name": "stdout",
     "output_type": "stream",
     "text": [
      "                        dim 1        dim 2\n",
      "MaxMod criterion 4.428698e-06 9.264300e-07\n",
      "knot's position  4.489373e-01 3.789424e-01\n",
      "decision         1.000000e+00 0.000000e+00\n"
     ]
    },
    {
     "name": "stderr",
     "output_type": "stream",
     "text": [
      "Iter 6 - New knot added: d = 2 (Relative MaxMod criterion = 2.46167759542169e-06)\n",
      "\n",
      "The sequential algorithm converged\n",
      "\n",
      "\n",
      "Number of active dimensions: 2\n",
      "\n",
      "Number of actived dimensions via MaxMod: 2\n",
      "\n",
      "\n"
     ]
    }
   ],
   "source": [
    "# updating the model according to the MaxMod algorithm\n",
    "max_iter <- 10\n",
    "tol <- 1e-5\n",
    "model <- MaxMod(model,\n",
    "                xtest,\n",
    "                tol = tol,\n",
    "                max_iter = max_iter,\n",
    "                reward_new_knot = 1e-9,\n",
    "                reward_new_dim = 1e-12,\n",
    "                print_iter = TRUE,\n",
    "                nClusters = 1,\n",
    "                save_history = TRUE)\n",
    "\n",
    "message(\"\\nNumber of active dimensions: \", d)\n",
    "message(\"Number of actived dimensions via MaxMod: \", model$d, \"\\n\")"
   ]
  },
  {
   "cell_type": "code",
   "execution_count": 6,
   "metadata": {},
   "outputs": [],
   "source": [
    "# evaluating the model using an equispaced grid of points\n",
    "ntest <- 10\n",
    "xtestGrid  <- as.matrix(expand.grid(seq(0, 1, length = ntest), seq(0, 1, length = ntest)))\n",
    "ytestGrid <- targetFun(xtestGrid)\n",
    "pred <- predict(model, xtestGrid)"
   ]
  },
  {
   "cell_type": "code",
   "execution_count": 7,
   "metadata": {},
   "outputs": [
    {
     "data": {
      "image/png": "[encoded data removed]",
      "text/plain": [
       "Plot with title \"\""
      ]
     },
     "metadata": {
      "image/png": {
       "height": 450,
       "width": 900
      }
     },
     "output_type": "display_data"
    }
   ],
   "source": [
    "# plotting the MAP estimate\n",
    "colormap <- rev(viridis(1e2))\n",
    "par(mfrow = c(1,2))\n",
    "options(repr.plot.width = 15, repr.plot.height = 7.5)\n",
    "p <- persp3D(x = seq(0, 1, length = ntest), y = seq(0, 1, length = ntest),\n",
    "             z = matrix(pred$Phi.test %*% pred$xi.map, nrow = ntest),\n",
    "             xlab = \"x2\", ylab = \"x1\", zlab = \"y(x1,x2)\",\n",
    "             main = \"target function\",\n",
    "             phi = 20, theta = -30, col = colormap,\n",
    "             contour = TRUE, colkey=FALSE)\n",
    "points(trans3D(x = model$x[, 1], y = model$x[, 2], z = ydesign, pmat = p),\n",
    "       col = 'black', pch = 19)\n",
    "u <- expand.grid(model$ulist[[1]], model$ulist[[2]])\n",
    "pred_Knots <- predict(model, as.matrix(u))\n",
    "points(trans3D(x = u[, 1], y = u[, 2], z = pred_Knots$Phi.test %*% pred_Knots$xi.map, pmat = p),\n",
    "       col = 'brown', pch = 4, lwd = 2)\n",
    "\n",
    "diff = ytestGrid - pred$Phi.test %*% pred$xi.map\n",
    "image2D(abs(matrix(diff, nrow = ntest)), col = rev(colormap),\n",
    "        main = \"absolute error\", xlab = \"x2\", ylab = \"x1\")\n",
    "points2D(model$x[, 1], model$x[, 2], add = TRUE, pch = 19, col ='black')\n",
    "points2D(u[, 1], u[, 2], add = TRUE, pch = 4, lwd = 4, col ='brown')\n",
    "\n"
   ]
  }
 ],
 "metadata": {
  "kernelspec": {
   "display_name": "R",
   "language": "R",
   "name": "ir"
  },
  "language_info": {
   "codemirror_mode": "r",
   "file_extension": ".r",
   "mimetype": "text/x-r-source",
   "name": "R",
   "pygments_lexer": "r",
   "version": "4.1.2"
  }
 },
 "nbformat": 4,
 "nbformat_minor": 4
}
